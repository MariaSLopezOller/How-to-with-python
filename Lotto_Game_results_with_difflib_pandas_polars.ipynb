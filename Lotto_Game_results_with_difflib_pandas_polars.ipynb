{
 "cells": [
  {
   "cell_type": "markdown",
   "id": "5e0b65f7-7e24-4bc8-8686-fe0dcb7cd689",
   "metadata": {},
   "source": [
    "Problem: Lotto game: "
   ]
  },
  {
   "cell_type": "raw",
   "id": "8e75aecf-fa5f-407b-be7c-ac1b2c4e86d9",
   "metadata": {},
   "source": [
    "With this Input:\n",
    "# Winning numbers\n",
    "numeros_ganadores = [7, 13, 22, 35, 41, 49]\n",
    "\n",
    "# Players' numbers\n",
    "jugadores = {\n",
    "    'A': [7, 13, 22, 28, 35, 49],\n",
    "    'C': [1, 13, 17, 29, 41, 43],\n",
    "    'M': [7, 35, 23, 38, 48, 49],\n",
    "    'P': [7, 13, 22, 28, 35, 49],\n",
    "    'L': [1, 13, 17, 29, 41, 43],\n",
    "    'S': [7, 11, 22, 35, 41, 49],\n",
    "Get this Output:\n",
    "    player  matches\n",
    "     A        5\n",
    "     P        5\n",
    "     S        5\n",
    "     M        3\n",
    "     C        2\n",
    "     L        2\n",
    "    "
   ]
  },
  {
   "cell_type": "raw",
   "id": "81539b44-d10a-4015-ae2d-f81867c2e200",
   "metadata": {},
   "source": [
    "Shorter code info. difflib is an in-built python library\n",
    "More info: https://medium.com/@zhangkd5/a-tutorial-for-difflib-a-powerful-python-standard-library-to-compare-textual-sequences-096d52b4c843"
   ]
  },
  {
   "cell_type": "code",
   "execution_count": 2,
   "id": "c9285cfc-bb34-41d7-9325-90c4cccb9fcf",
   "metadata": {},
   "outputs": [
    {
     "name": "stdout",
     "output_type": "stream",
     "text": [
      "Pandas is already installed.\n"
     ]
    }
   ],
   "source": [
    "#just in case\n",
    "try:\n",
    "    import pandas\n",
    "    print(\"Pandas is already installed.\")\n",
    "except ImportError:\n",
    "    print(\"Pandas is not installed. Installing...\")\n",
    "    !pip install pandas\n",
    "    print(\"Pandas has been successfully installed.\")"
   ]
  },
  {
   "cell_type": "code",
   "execution_count": 1,
   "id": "9fb56ae3-c9dc-4680-acd8-97fba24bdf79",
   "metadata": {},
   "outputs": [
    {
     "name": "stdout",
     "output_type": "stream",
     "text": [
      "Results:\n",
      "\n",
      "| Player | matches |\n",
      "|---------|----------|\n",
      "| A       | 5        |\n",
      "| C       | 2        |\n",
      "| M       | 3        |\n",
      "| P       | 5        |\n",
      "| L       | 2        |\n",
      "| S       | 5        |\n",
      "CPU times: total: 0 ns\n",
      "Wall time: 0 ns\n"
     ]
    }
   ],
   "source": [
    "%%time\n",
    "from difflib import SequenceMatcher\n",
    "\n",
    "def contar_aciertos(numeros_ganadores, numeros_jugados):\n",
    "    return len(set(numeros_ganadores) & set(numeros_jugados))\n",
    "\n",
    "# Winning numbers\n",
    "numeros_ganadores = [7, 13, 22, 35, 41, 49]\n",
    "\n",
    "# Players' numbers\n",
    "jugadores = {\n",
    "    'A': [7, 13, 22, 28, 35, 49],\n",
    "    'C': [1, 13, 17, 29, 41, 43],\n",
    "    'M': [7, 35, 23, 38, 48, 49],\n",
    "    'P': [7, 13, 22, 28, 35, 49],\n",
    "    'L': [1, 13, 17, 29, 41, 43],\n",
    "    'S': [7, 11, 22, 35, 41, 49],\n",
    "}\n",
    "\n",
    "# Calculate and print results\n",
    "print(\"Results:\")\n",
    "print(\"\\n| Player | matches |\")\n",
    "print(\"|---------|----------|\")\n",
    "\n",
    "for jugador, numeros in jugadores.items():\n",
    "    aciertos = contar_aciertos(numeros_ganadores, numeros)\n",
    "    print(f\"| {jugador}       | {aciertos}        |\")"
   ]
  },
  {
   "cell_type": "markdown",
   "id": "7c958b81-95e3-4f29-ae8f-81837c379b9e",
   "metadata": {},
   "source": [
    "Using Pandas instead of difflib"
   ]
  },
  {
   "cell_type": "code",
   "execution_count": 2,
   "id": "745d4ed9",
   "metadata": {},
   "outputs": [
    {
     "name": "stdout",
     "output_type": "stream",
     "text": [
      "player  matches\n",
      "     A        5\n",
      "     P        5\n",
      "     S        5\n",
      "     M        3\n",
      "     C        2\n",
      "     L        2\n",
      "CPU times: total: 125 ms\n",
      "Wall time: 536 ms\n"
     ]
    }
   ],
   "source": [
    "%%time\n",
    "import pandas as pd\n",
    "import numpy as np\n",
    "\n",
    "# Players' numbers\n",
    "game_data = pd.DataFrame([\n",
    "    {'player': 'A', 'numbers': [7, 13, 22, 28, 35, 49]},\n",
    "    {'player': 'C', 'numbers': [1, 13, 17, 29, 41, 43]},\n",
    "    {'player': 'M', 'numbers': [7, 35, 23, 38, 48, 49]},\n",
    "    {'player': 'P', 'numbers': [7, 13, 22, 28, 35, 49]},\n",
    "    {'player': 'L', 'numbers': [1, 13, 17, 29, 41, 43]},\n",
    "    {'player': 'S', 'numbers': [7, 11, 22, 35, 41, 49]},\n",
    "])\n",
    "\n",
    "# Winning numbers\n",
    "winning_numbers = [7, 13, 22, 35, 41, 49]\n",
    "\n",
    "# Function to count matches\n",
    "def count_matches(numbers):\n",
    "    return len(set(numbers) & set(winning_numbers))\n",
    "\n",
    "# Apply the function to the numbers column\n",
    "game_data['matches'] = game_data['numbers'].apply(count_matches)\n",
    "\n",
    "# Select and sort the columns we want to display\n",
    "result = game_data[['player', 'matches']].sort_values('matches', ascending=False)\n",
    "\n",
    "# Show the result\n",
    "print(result.to_string(index=False))"
   ]
  },
  {
   "cell_type": "code",
   "execution_count": null,
   "id": "5d39015c-590f-4fa6-8f57-297ede509cca",
   "metadata": {},
   "outputs": [],
   "source": [
    "Using Polars instead of Pandas"
   ]
  },
  {
   "cell_type": "code",
   "execution_count": 4,
   "id": "36d6f5bb-b50d-49a9-b377-0194614c1052",
   "metadata": {},
   "outputs": [
    {
     "name": "stdout",
     "output_type": "stream",
     "text": [
      "Pandas is not installed. Installing...\n",
      "Collecting polars\n",
      "  Downloading polars-1.21.0-cp39-abi3-win_amd64.whl.metadata (15 kB)\n",
      "Downloading polars-1.21.0-cp39-abi3-win_amd64.whl (31.7 MB)\n",
      "   ---------------------------------------- 0.0/31.7 MB ? eta -:--:--\n",
      "   - -------------------------------------- 1.0/31.7 MB 7.2 MB/s eta 0:00:05\n",
      "   -- ------------------------------------- 2.1/31.7 MB 5.3 MB/s eta 0:00:06\n",
      "   ---- ----------------------------------- 3.4/31.7 MB 5.9 MB/s eta 0:00:05\n",
      "   ------ --------------------------------- 5.0/31.7 MB 6.3 MB/s eta 0:00:05\n",
      "   ------- -------------------------------- 6.3/31.7 MB 6.1 MB/s eta 0:00:05\n",
      "   --------- ------------------------------ 7.9/31.7 MB 6.2 MB/s eta 0:00:04\n",
      "   ----------- ---------------------------- 9.2/31.7 MB 6.2 MB/s eta 0:00:04\n",
      "   ------------ --------------------------- 10.0/31.7 MB 6.1 MB/s eta 0:00:04\n",
      "   -------------- ------------------------- 11.5/31.7 MB 6.0 MB/s eta 0:00:04\n",
      "   ---------------- ----------------------- 12.8/31.7 MB 6.2 MB/s eta 0:00:04\n",
      "   ----------------- ---------------------- 13.9/31.7 MB 6.0 MB/s eta 0:00:03\n",
      "   ------------------ --------------------- 14.9/31.7 MB 5.9 MB/s eta 0:00:03\n",
      "   -------------------- ------------------- 16.3/31.7 MB 5.8 MB/s eta 0:00:03\n",
      "   ---------------------- ----------------- 17.6/31.7 MB 5.9 MB/s eta 0:00:03\n",
      "   ----------------------- ---------------- 18.6/31.7 MB 5.9 MB/s eta 0:00:03\n",
      "   ------------------------ --------------- 19.7/31.7 MB 5.8 MB/s eta 0:00:03\n",
      "   -------------------------- ------------- 21.0/31.7 MB 5.8 MB/s eta 0:00:02\n",
      "   ---------------------------- ----------- 22.3/31.7 MB 5.8 MB/s eta 0:00:02\n",
      "   ----------------------------- ---------- 23.1/31.7 MB 5.7 MB/s eta 0:00:02\n",
      "   ------------------------------ --------- 23.9/31.7 MB 5.6 MB/s eta 0:00:02\n",
      "   ------------------------------- -------- 25.2/31.7 MB 5.6 MB/s eta 0:00:02\n",
      "   --------------------------------- ------ 26.2/31.7 MB 5.6 MB/s eta 0:00:01\n",
      "   ---------------------------------- ----- 27.3/31.7 MB 5.6 MB/s eta 0:00:01\n",
      "   ------------------------------------ --- 28.6/31.7 MB 5.6 MB/s eta 0:00:01\n",
      "   ------------------------------------- -- 29.9/31.7 MB 5.6 MB/s eta 0:00:01\n",
      "   -------------------------------------- - 30.9/31.7 MB 5.6 MB/s eta 0:00:01\n",
      "   ---------------------------------------- 31.7/31.7 MB 5.6 MB/s eta 0:00:00\n",
      "Installing collected packages: polars\n",
      "Successfully installed polars-1.21.0\n",
      "Pandas has been successfully installed.\n"
     ]
    }
   ],
   "source": [
    "#just in case\n",
    "try:\n",
    "    import polars\n",
    "    print(\"Polars is already installed.\")\n",
    "except ImportError:\n",
    "    print(\"Polars is not installed. Installing...\")\n",
    "    !pip install polars\n",
    "    print(\"Polars has been successfully installed.\")"
   ]
  },
  {
   "cell_type": "code",
   "execution_count": 1,
   "id": "ef74c270-bccd-4ceb-bdad-6cfb5e6af0e1",
   "metadata": {},
   "outputs": [
    {
     "name": "stdout",
     "output_type": "stream",
     "text": [
      "shape: (6, 2)\n",
      "┌────────┬─────────┐\n",
      "│ player ┆ matches │\n",
      "│ ---    ┆ ---     │\n",
      "│ str    ┆ i64     │\n",
      "╞════════╪═════════╡\n",
      "│ A      ┆ 5       │\n",
      "│ P      ┆ 5       │\n",
      "│ S      ┆ 5       │\n",
      "│ M      ┆ 3       │\n",
      "│ C      ┆ 2       │\n",
      "│ L      ┆ 2       │\n",
      "└────────┴─────────┘\n",
      "CPU times: total: 109 ms\n",
      "Wall time: 194 ms\n"
     ]
    }
   ],
   "source": [
    "%%time\n",
    "import polars as pl\n",
    "\n",
    "# Players' numbers\n",
    "game_data = pl.DataFrame([\n",
    "    {'player': 'A', 'numbers': [7, 13, 22, 28, 35, 49]},\n",
    "    {'player': 'C', 'numbers': [1, 13, 17, 29, 41, 43]},\n",
    "    {'player': 'M', 'numbers': [7, 35, 23, 38, 48, 49]},\n",
    "    {'player': 'P', 'numbers': [7, 13, 22, 28, 35, 49]},\n",
    "    {'player': 'L', 'numbers': [1, 13, 17, 29, 41, 43]},\n",
    "    {'player': 'S', 'numbers': [7, 11, 22, 35, 41, 49]},\n",
    "])\n",
    "\n",
    "# Winning numbers\n",
    "winning_numbers = set([7, 13, 22, 35, 41, 49])\n",
    "\n",
    "# Define the function to count matches\n",
    "def count_matches(numbers):\n",
    "    return len(set(numbers) & winning_numbers)\n",
    "\n",
    "# Apply the function and sort results\n",
    "result = (game_data\n",
    "    .with_columns(\n",
    "        pl.col('numbers').map_elements(count_matches, return_dtype=pl.Int64).alias('matches')\n",
    "    )\n",
    "    .select(['player', 'matches'])\n",
    "    .sort('matches', descending=True)\n",
    "         )\n",
    "\n",
    "# Show the result\n",
    "print(result)"
   ]
  },
  {
   "cell_type": "code",
   "execution_count": null,
   "id": "ae335d9c-4cf8-484e-9561-a0b84b98e55a",
   "metadata": {},
   "outputs": [],
   "source": []
  },
  {
   "cell_type": "code",
   "execution_count": null,
   "id": "1f5bcd02-f68f-44ee-9011-68bd1919e27d",
   "metadata": {},
   "outputs": [],
   "source": []
  },
  {
   "cell_type": "code",
   "execution_count": null,
   "id": "dfbc5283-5296-4ee2-8c0d-24835b855f75",
   "metadata": {},
   "outputs": [],
   "source": []
  }
 ],
 "metadata": {
  "kernelspec": {
   "display_name": "Python 3 (ipykernel)",
   "language": "python",
   "name": "python3"
  },
  "language_info": {
   "codemirror_mode": {
    "name": "ipython",
    "version": 3
   },
   "file_extension": ".py",
   "mimetype": "text/x-python",
   "name": "python",
   "nbconvert_exporter": "python",
   "pygments_lexer": "ipython3",
   "version": "3.10.16"
  }
 },
 "nbformat": 4,
 "nbformat_minor": 5
}
